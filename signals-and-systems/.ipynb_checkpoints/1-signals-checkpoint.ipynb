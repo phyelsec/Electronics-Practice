{
 "cells": [
  {
   "cell_type": "markdown",
   "metadata": {},
   "source": [
    "# Continuous Signals\n",
    "\n",
    "We are going to work with vectors and graphs. For that, we'll use next libraries:\n",
    "- vectors - numpy\n",
    "- graphs - matplotlib.pyplot"
   ]
  },
  {
   "cell_type": "code",
   "execution_count": 15,
   "metadata": {},
   "outputs": [],
   "source": [
    "import numpy as np\n",
    "import matplotlib.pyplot as plt"
   ]
  },
  {
   "cell_type": "markdown",
   "metadata": {},
   "source": [
    "The time range is [t0, tn) built with n samples and a frequency w (omega) [rad/s].\\\n",
    "In this case we consider a complete loop, that is, from 0 to 2pi [rad]."
   ]
  },
  {
   "cell_type": "code",
   "execution_count": 18,
   "metadata": {},
   "outputs": [],
   "source": [
    "# parameters\n",
    "t0 = 0\n",
    "tn = 2 * np.pi\n",
    "n = 50\n",
    "w = 1"
   ]
  },
  {
   "cell_type": "markdown",
   "metadata": {},
   "source": [
    "Between each time value **t** there is a difference **dt** determined by **n**. \\\n",
    "Then, the time values **t** are saved in a vector of size **n**."
   ]
  },
  {
   "cell_type": "code",
   "execution_count": 11,
   "metadata": {},
   "outputs": [],
   "source": [
    "# time vector\n",
    "dt = (tn-t0)/n\n",
    "t = np.arange(t0, tn, dt)"
   ]
  },
  {
   "cell_type": "markdown",
   "metadata": {},
   "source": [
    "The **signal** consists of the values of **sin()** function evaluated on that time vector **t** times the frequency **w**."
   ]
  },
  {
   "cell_type": "code",
   "execution_count": 12,
   "metadata": {},
   "outputs": [],
   "source": [
    "# signal\n",
    "signal = np.sin(w * t)"
   ]
  },
  {
   "cell_type": "markdown",
   "metadata": {},
   "source": [
    "We could see the output by its numerical values:"
   ]
  },
  {
   "cell_type": "code",
   "execution_count": 13,
   "metadata": {},
   "outputs": [
    {
     "name": "stdout",
     "output_type": "stream",
     "text": [
      "time: \n",
      "[0.         0.12566371 0.25132741 0.37699112 0.50265482 0.62831853\n",
      " 0.75398224 0.87964594 1.00530965 1.13097336 1.25663706 1.38230077\n",
      " 1.50796447 1.63362818 1.75929189 1.88495559 2.0106193  2.136283\n",
      " 2.26194671 2.38761042 2.51327412 2.63893783 2.76460154 2.89026524\n",
      " 3.01592895 3.14159265 3.26725636 3.39292007 3.51858377 3.64424748\n",
      " 3.76991118 3.89557489 4.0212386  4.1469023  4.27256601 4.39822972\n",
      " 4.52389342 4.64955713 4.77522083 4.90088454 5.02654825 5.15221195\n",
      " 5.27787566 5.40353936 5.52920307 5.65486678 5.78053048 5.90619419\n",
      " 6.03185789 6.1575216 ]\n",
      "signal: x(t) \n",
      "[ 0.00000000e+00  1.25333234e-01  2.48689887e-01  3.68124553e-01\n",
      "  4.81753674e-01  5.87785252e-01  6.84547106e-01  7.70513243e-01\n",
      "  8.44327926e-01  9.04827052e-01  9.51056516e-01  9.82287251e-01\n",
      "  9.98026728e-01  9.98026728e-01  9.82287251e-01  9.51056516e-01\n",
      "  9.04827052e-01  8.44327926e-01  7.70513243e-01  6.84547106e-01\n",
      "  5.87785252e-01  4.81753674e-01  3.68124553e-01  2.48689887e-01\n",
      "  1.25333234e-01 -3.21624530e-16 -1.25333234e-01 -2.48689887e-01\n",
      " -3.68124553e-01 -4.81753674e-01 -5.87785252e-01 -6.84547106e-01\n",
      " -7.70513243e-01 -8.44327926e-01 -9.04827052e-01 -9.51056516e-01\n",
      " -9.82287251e-01 -9.98026728e-01 -9.98026728e-01 -9.82287251e-01\n",
      " -9.51056516e-01 -9.04827052e-01 -8.44327926e-01 -7.70513243e-01\n",
      " -6.84547106e-01 -5.87785252e-01 -4.81753674e-01 -3.68124553e-01\n",
      " -2.48689887e-01 -1.25333234e-01]\n"
     ]
    }
   ],
   "source": [
    "# output\n",
    "print('time: ')\n",
    "print(t)\n",
    "print('signal: x(t) ')\n",
    "print(signal)"
   ]
  },
  {
   "cell_type": "markdown",
   "metadata": {},
   "source": [
    "Or by its graphs:"
   ]
  },
  {
   "cell_type": "code",
   "execution_count": 21,
   "metadata": {},
   "outputs": [
    {
     "data": {
      "image/png": "[encoded data removed]",
      "text/plain": [
       "<Figure size 432x288 with 1 Axes>"
      ]
     },
     "metadata": {
      "needs_background": "light"
     },
     "output_type": "display_data"
    }
   ],
   "source": [
    "# graphs\n",
    "plt.plot(t, signal)\n",
    "plt.xlabel('t')\n",
    "plt.ylabel('signal x[(t)]')\n",
    "plt.grid('on')\n",
    "plt.show()"
   ]
  }
 ],
 "metadata": {
  "kernelspec": {
   "display_name": "Python 3",
   "language": "python",
   "name": "python3"
  },
  "language_info": {
   "codemirror_mode": {
    "name": "ipython",
    "version": 3
   },
   "file_extension": ".py",
   "mimetype": "text/x-python",
   "name": "python",
   "nbconvert_exporter": "python",
   "pygments_lexer": "ipython3",
   "version": "3.8.5"
  }
 },
 "nbformat": 4,
 "nbformat_minor": 4
}
